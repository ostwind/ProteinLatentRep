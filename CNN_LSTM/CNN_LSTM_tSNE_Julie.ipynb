{
 "cells": [
  {
   "cell_type": "code",
   "execution_count": 1,
   "metadata": {
    "collapsed": false
   },
   "outputs": [],
   "source": [
    "## Setup ##\n",
    "\n",
    "import re\n",
    "import numpy as np\n",
    "import pandas as pd\n",
    "from imp import reload\n",
    "\n",
    "# Import tsne code from util sibling directory\n",
    "import sys\n",
    "sys.path.insert(0, '../util')\n",
    "import tsne\n",
    "\n",
    "# Define path for saved hidden reps\n",
    "hidden_path = './TrainedModels/hiddens.csv'"
   ]
  },
  {
   "cell_type": "code",
   "execution_count": 4,
   "metadata": {
    "collapsed": false
   },
   "outputs": [],
   "source": [
    "## Load gene name mappings ##\n",
    "\n",
    "# Delete csv version if it already exists\n",
    "%rm ../data/tentative_genename_mapping.csv\n",
    "\n",
    "# Open tab version and write to csv\n",
    "with open('../data/tentative_genename_mapping.tab', 'rb') as original_file:\n",
    "    for i, line in enumerate(original_file):\n",
    "        with open('../data/tentative_genename_mapping.csv', 'a') as new_file:\n",
    "            line = re.sub(b'\\t', b',', line)\n",
    "            new_file.write(line.decode(\"utf-8\"))\n",
    "\n",
    "# Read and parse csv\n",
    "match = pd.read_csv('../data/tentative_genename_mapping.csv')\n",
    "beginning, counts = np.unique([to.split('_')[0][:3] for to in match['To']], return_counts=True)\n",
    "name_count_pairs = sorted(zip(beginning, counts), key=lambda x: x[1], reverse=True)\n",
    "genes_to_plot = [name for name, count in name_count_pairs[:10]]"
   ]
  },
  {
   "cell_type": "code",
   "execution_count": 5,
   "metadata": {
    "collapsed": false
   },
   "outputs": [
    {
     "data": {
      "text/plain": [
       "(81843, 132)"
      ]
     },
     "execution_count": 5,
     "metadata": {},
     "output_type": "execute_result"
    }
   ],
   "source": [
    "## Match hidden reps with gene names ##\n",
    "\n",
    "hiddens = pd.read_csv(hidden_path, index_col=0)\n",
    "hiddens['name1'] = [name.split('.')[0] for name in hiddens.name]\n",
    "matched = pd.merge(hiddens, match, left_on='name1', right_on='From')"
   ]
  },
  {
   "cell_type": "code",
   "execution_count": 7,
   "metadata": {
    "collapsed": true,
    "scrolled": true
   },
   "outputs": [],
   "source": [
    "## Get ready to plot ##\n",
    "\n",
    "matched['genID'] = [to[:3] for to in matched['To']]\n",
    "hiddens_to_plot = matched.drop(['name','name1', 'From', 'To'], 1)"
   ]
  },
  {
   "cell_type": "code",
   "execution_count": 8,
   "metadata": {
    "collapsed": false,
    "scrolled": true
   },
   "outputs": [
    {
     "ename": "TypeError",
     "evalue": "plot() got an unexpected keyword argument 'perplexity'",
     "output_type": "error",
     "traceback": [
      "\u001b[0;31m---------------------------------------------------------------------------\u001b[0m",
      "\u001b[0;31mTypeError\u001b[0m                                 Traceback (most recent call last)",
      "\u001b[0;32m<ipython-input-8-1a169171ffa7>\u001b[0m in \u001b[0;36m<module>\u001b[0;34m()\u001b[0m\n\u001b[1;32m      1\u001b[0m \u001b[0mreload\u001b[0m\u001b[0;34m(\u001b[0m\u001b[0mtsne\u001b[0m\u001b[0;34m)\u001b[0m\u001b[0;34m\u001b[0m\u001b[0m\n\u001b[0;32m----> 2\u001b[0;31m \u001b[0mtsne\u001b[0m\u001b[0;34m.\u001b[0m\u001b[0mplot\u001b[0m\u001b[0;34m(\u001b[0m\u001b[0;34m'2d'\u001b[0m\u001b[0;34m,\u001b[0m \u001b[0mhiddens_to_plot\u001b[0m\u001b[0;34m[\u001b[0m\u001b[0;34m'genID'\u001b[0m\u001b[0;34m]\u001b[0m\u001b[0;34m,\u001b[0m \u001b[0mhiddens_to_plot\u001b[0m\u001b[0;34m.\u001b[0m\u001b[0mdrop\u001b[0m\u001b[0;34m(\u001b[0m\u001b[0;34m'genID'\u001b[0m\u001b[0;34m,\u001b[0m \u001b[0;36m1\u001b[0m\u001b[0;34m)\u001b[0m\u001b[0;34m.\u001b[0m\u001b[0mvalues\u001b[0m\u001b[0;34m,\u001b[0m \u001b[0mperplexity\u001b[0m\u001b[0;34m=\u001b[0m\u001b[0;36m10\u001b[0m\u001b[0;34m)\u001b[0m\u001b[0;34m\u001b[0m\u001b[0m\n\u001b[0m",
      "\u001b[0;31mTypeError\u001b[0m: plot() got an unexpected keyword argument 'perplexity'"
     ]
    }
   ],
   "source": [
    "reload(tsne)\n",
    "tsne.plot('2d', hiddens_to_plot['genID'], hiddens_to_plot.drop('genID', 1).values, perplexity=10)"
   ]
  },
  {
   "cell_type": "code",
   "execution_count": null,
   "metadata": {
    "collapsed": false,
    "scrolled": false
   },
   "outputs": [],
   "source": [
    "reload(tsne)\n",
    "tsne.plot('2d', hiddens_to_plot['genID'], hiddens_to_plot.drop('genID', 1).values, perplexity=100)"
   ]
  },
  {
   "cell_type": "code",
   "execution_count": null,
   "metadata": {
    "collapsed": false
   },
   "outputs": [],
   "source": [
    "reload(tsne)\n",
    "tsne.plot('Representation for filtered RRMs', hiddens_to_plot['genID'], hiddens_to_plot.drop('genID', 1).values, perplexity=100)"
   ]
  }
 ],
 "metadata": {
  "anaconda-cloud": {},
  "kernelspec": {
   "display_name": "Python [default]",
   "language": "python",
   "name": "python3"
  },
  "language_info": {
   "codemirror_mode": {
    "name": "ipython",
    "version": 3
   },
   "file_extension": ".py",
   "mimetype": "text/x-python",
   "name": "python",
   "nbconvert_exporter": "python",
   "pygments_lexer": "ipython3",
   "version": "3.5.2"
  }
 },
 "nbformat": 4,
 "nbformat_minor": 2
}
