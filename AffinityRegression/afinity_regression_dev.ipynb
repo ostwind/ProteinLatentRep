{
 "cells": [
  {
   "cell_type": "code",
   "execution_count": 1,
   "metadata": {
    "collapsed": true
   },
   "outputs": [],
   "source": [
    "import torch \n",
    "import numpy as np\n",
    "from torch.autograd import Variable\n",
    "from torch import nn\n",
    "from torch.optim import SGD\n",
    "from torch.utils.data.dataloader import DataLoader\n",
    "from torch.utils.data.dataset import Dataset\n"
   ]
  },
  {
   "cell_type": "code",
   "execution_count": 42,
   "metadata": {},
   "outputs": [],
   "source": [
    "# making dataset for easy looping\n",
    "class LowDimData(Dataset):\n",
    "    def __init__(self, train, labels, transform=None):\n",
    "        self.low_dim_embs = train\n",
    "        self.labels = labels\n",
    "        self.transform = transform\n",
    "\n",
    "    def __len__(self):\n",
    "        return len(self.low_dim_embs)\n",
    "\n",
    "    def __getitem__(self, idx):\n",
    "        emb = self.low_dim_embs[idx]\n",
    "        lab = self.labels[idx]\n",
    "        \n",
    "        sample = (emb, lab)\n",
    "        if self.transform:\n",
    "            sample = self.transform(sample)\n",
    "        return sample\n",
    "\n",
    "# for x in input_data:\n",
    "#     print(x[1])\n",
    "#     break\n"
   ]
  },
  {
   "cell_type": "code",
   "execution_count": 64,
   "metadata": {
    "collapsed": true
   },
   "outputs": [],
   "source": [
    "# # affinity regression:\n",
    "\n",
    "# # RWA^T = Y\n",
    "# # R:  low-level embeddings\n",
    "# # W: weight matrix to learn\n",
    "# # A: RNA/protein sequences to match\n",
    "# # Y: known matches\n",
    "## following class returns LHS \n",
    "\n",
    "class AfinityRegression(nn.Module):\n",
    "    def __init__(self, emb_dim, rna_dim):\n",
    "        super(AfinityRegression, self).__init__()\n",
    "        # want to learn weights after applying to embedding layer (First do RW , then RW A^T)\n",
    "        self.lin1 = nn.Linear(emb_dim, rna_dim)\n",
    "    \n",
    "    def init_weights(self):\n",
    "        return None\n",
    "    \n",
    "    def forward(self, batch_size, embs, rna_samples):\n",
    "        self.batch_size = batch_size\n",
    "        x = self.lin1(embs)\n",
    "        x = torch.matmul(x, rna_samples)\n",
    "\n",
    "        return x\n",
    "\n"
   ]
  },
  {
   "cell_type": "code",
   "execution_count": 65,
   "metadata": {},
   "outputs": [],
   "source": [
    "# dimensions and current dummy values\n",
    "# samples = batch_size                              777\n",
    "# embedding_dim = learned embedding dim (emb_dim)   10\n",
    "# hidden1 = embedding_dim                           10\n",
    "# hidden2 = dimension of rna samples (rna_dim)      2555\n",
    "# rna_samples = # of RNA samples we're looking at   30\n",
    "\n",
    "\n",
    "def training_loop(batch_size, num_epochs, model, optim, data_iter, rna_options):\n",
    "    step = 0\n",
    "    epoch = 0\n",
    "    losses = []\n",
    "    total_batches = int(len(data_iter) / batch_size)\n",
    "    poss_matches = Variable(rna_options)\n",
    "    while epoch <= num_epochs:\n",
    "        for x in data_iter:\n",
    "            learned_embs = Variable(x[0])\n",
    "            known_matches = Variable(x[1])\n",
    "            \n",
    "            model.train()\n",
    "            model.zero_grad()\n",
    "\n",
    "            outs = test_model.forward(3, learned_embs, poss_matches)\n",
    "            new_mat = known_matches - outs\n",
    "            loss = torch.bmm(new_mat.view(new_mat.size()[0], 1, new_mat.size()[1]),\n",
    "                               new_mat.view(new_mat.size()[0], new_mat.size()[1], 1)\n",
    "                              )\n",
    "            loss = torch.sqrt(loss)\n",
    "            loss = torch.div(torch.sum(loss.view(-1)), batch_size)\n",
    "            losses.append(loss[0].data.numpy()) \n",
    "            loss.backward()\n",
    "            optim.step()\n",
    "\n",
    "\n",
    "        epoch += 1\n",
    "#         if epoch % 2 == 0:\n",
    "        print( \"Epoch:\", (epoch), \"Avg Loss:\", np.mean(losses)/(total_batches*epoch) )\n",
    "        \n",
    "        step += 1\n",
    "\n",
    "\n"
   ]
  },
  {
   "cell_type": "code",
   "execution_count": 66,
   "metadata": {
    "scrolled": true
   },
   "outputs": [
    {
     "name": "stdout",
     "output_type": "stream",
     "text": [
      "Epoch: 1 Avg Loss: 1.21311803018\n",
      "Epoch: 2 Avg Loss: 0.362865263416\n",
      "Epoch: 3 Avg Loss: 0.187756015408\n",
      "Epoch: 4 Avg Loss: 0.12050919379\n",
      "Epoch: 5 Avg Loss: 0.0866596098869\n",
      "Epoch: 6 Avg Loss: 0.0668009224758\n"
     ]
    }
   ],
   "source": [
    "# dummy data\n",
    "learned_embs = torch.randn((777,10))\n",
    "poss_matches = torch.randn((2555, 30))\n",
    "known_matches = torch.randn((777,30))\n",
    "\n",
    "test_model = AfinityRegression(emb_dim=10, rna_dim=2555)\n",
    "optimizer = SGD(test_model.parameters(), lr = 0.001)\n",
    "test_model.init_weights()\n",
    "# input_data = (learned_embs, known_matches)\n",
    "batch_size = 5\n",
    "num_epochs = 5\n",
    "input_data = DataLoader(LowDimData(learned_embs, known_matches), batch_size=batch_size)\n",
    "training_loop(batch_size, num_epochs, test_model, optimizer, input_data, poss_matches)\n"
   ]
  }
 ],
 "metadata": {
  "kernelspec": {
   "display_name": "Python [Root]",
   "language": "python",
   "name": "Python [Root]"
  },
  "language_info": {
   "codemirror_mode": {
    "name": "ipython",
    "version": 3
   },
   "file_extension": ".py",
   "mimetype": "text/x-python",
   "name": "python",
   "nbconvert_exporter": "python",
   "pygments_lexer": "ipython3",
   "version": "3.5.3"
  }
 },
 "nbformat": 4,
 "nbformat_minor": 2
}
